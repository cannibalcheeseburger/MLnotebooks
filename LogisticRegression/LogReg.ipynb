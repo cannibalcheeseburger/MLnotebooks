{
 "nbformat": 4,
 "nbformat_minor": 2,
 "metadata": {
  "language_info": {
   "name": "python",
   "codemirror_mode": {
    "name": "ipython",
    "version": 3
   },
   "version": "3.7.6-final"
  },
  "orig_nbformat": 2,
  "file_extension": ".py",
  "mimetype": "text/x-python",
  "name": "python",
  "npconvert_exporter": "python",
  "pygments_lexer": "ipython3",
  "version": 3,
  "kernelspec": {
   "name": "python37664bit1d7ef2e8cff042f78a509e385ee1219d",
   "display_name": "Python 3.7.6 64-bit"
  }
 },
 "cells": [
  {
   "cell_type": "code",
   "execution_count": 1,
   "metadata": {},
   "outputs": [],
   "source": [
    "import pandas as pd\n",
    "import numpy as np\n",
    "import matplotlib.pyplot as plt\n",
    "%matplotlib inline"
   ]
  },
  {
   "cell_type": "code",
   "execution_count": 2,
   "metadata": {},
   "outputs": [],
   "source": [
    "df = pd.read_csv(\"./Train_pjb2QcD.csv\")"
   ]
  },
  {
   "cell_type": "code",
   "execution_count": 4,
   "metadata": {},
   "outputs": [
    {
     "output_type": "execute_result",
     "data": {
      "text/plain": "           ID  Office_PIN  Applicant_City_PIN Applicant_Gender  \\\n0  FIN1000001      842001              844120                M   \n1  FIN1000002      842001              844111                M   \n2  FIN1000003      800001              844101                M   \n3  FIN1000004      814112              814112                M   \n4  FIN1000005      814112              815351                M   \n\n  Applicant_Marital_Status Applicant_Occupation Applicant_Qualification  \\\n0                        M               Others                Graduate   \n1                        S               Others               Class XII   \n2                        M             Business               Class XII   \n3                        S             Salaried               Class XII   \n4                        M               Others               Class XII   \n\n  Manager_Joining_Designation Manager_Current_Designation  Manager_Grade  \\\n0                     Level 1                     Level 2            3.0   \n1                     Level 1                     Level 2            3.0   \n2                     Level 1                     Level 1            2.0   \n3                     Level 1                     Level 3            4.0   \n4                     Level 1                     Level 1            2.0   \n\n  Manager_Status Manager_Gender  Manager_Num_Application  Manager_Num_Coded  \\\n0   Confirmation              M                      2.0                1.0   \n1   Confirmation              M                      2.0                1.0   \n2   Confirmation              M                      0.0                0.0   \n3   Confirmation              F                      0.0                0.0   \n4   Confirmation              M                      2.0                1.0   \n\n   Manager_Business  Manager_Num_Products  Manager_Business2  \\\n0          335249.0                  28.0           335249.0   \n1          335249.0                  28.0           335249.0   \n2          357184.0                  24.0           357184.0   \n3          318356.0                  22.0           318356.0   \n4          230402.0                  17.0           230402.0   \n\n   Manager_Num_Products2  Business_Sourced  \n0                   28.0                 0  \n1                   28.0                 1  \n2                   24.0                 0  \n3                   22.0                 0  \n4                   17.0                 0  ",
      "text/html": "<div>\n<style scoped>\n    .dataframe tbody tr th:only-of-type {\n        vertical-align: middle;\n    }\n\n    .dataframe tbody tr th {\n        vertical-align: top;\n    }\n\n    .dataframe thead th {\n        text-align: right;\n    }\n</style>\n<table border=\"1\" class=\"dataframe\">\n  <thead>\n    <tr style=\"text-align: right;\">\n      <th></th>\n      <th>ID</th>\n      <th>Office_PIN</th>\n      <th>Applicant_City_PIN</th>\n      <th>Applicant_Gender</th>\n      <th>Applicant_Marital_Status</th>\n      <th>Applicant_Occupation</th>\n      <th>Applicant_Qualification</th>\n      <th>Manager_Joining_Designation</th>\n      <th>Manager_Current_Designation</th>\n      <th>Manager_Grade</th>\n      <th>Manager_Status</th>\n      <th>Manager_Gender</th>\n      <th>Manager_Num_Application</th>\n      <th>Manager_Num_Coded</th>\n      <th>Manager_Business</th>\n      <th>Manager_Num_Products</th>\n      <th>Manager_Business2</th>\n      <th>Manager_Num_Products2</th>\n      <th>Business_Sourced</th>\n    </tr>\n  </thead>\n  <tbody>\n    <tr>\n      <th>0</th>\n      <td>FIN1000001</td>\n      <td>842001</td>\n      <td>844120</td>\n      <td>M</td>\n      <td>M</td>\n      <td>Others</td>\n      <td>Graduate</td>\n      <td>Level 1</td>\n      <td>Level 2</td>\n      <td>3.0</td>\n      <td>Confirmation</td>\n      <td>M</td>\n      <td>2.0</td>\n      <td>1.0</td>\n      <td>335249.0</td>\n      <td>28.0</td>\n      <td>335249.0</td>\n      <td>28.0</td>\n      <td>0</td>\n    </tr>\n    <tr>\n      <th>1</th>\n      <td>FIN1000002</td>\n      <td>842001</td>\n      <td>844111</td>\n      <td>M</td>\n      <td>S</td>\n      <td>Others</td>\n      <td>Class XII</td>\n      <td>Level 1</td>\n      <td>Level 2</td>\n      <td>3.0</td>\n      <td>Confirmation</td>\n      <td>M</td>\n      <td>2.0</td>\n      <td>1.0</td>\n      <td>335249.0</td>\n      <td>28.0</td>\n      <td>335249.0</td>\n      <td>28.0</td>\n      <td>1</td>\n    </tr>\n    <tr>\n      <th>2</th>\n      <td>FIN1000003</td>\n      <td>800001</td>\n      <td>844101</td>\n      <td>M</td>\n      <td>M</td>\n      <td>Business</td>\n      <td>Class XII</td>\n      <td>Level 1</td>\n      <td>Level 1</td>\n      <td>2.0</td>\n      <td>Confirmation</td>\n      <td>M</td>\n      <td>0.0</td>\n      <td>0.0</td>\n      <td>357184.0</td>\n      <td>24.0</td>\n      <td>357184.0</td>\n      <td>24.0</td>\n      <td>0</td>\n    </tr>\n    <tr>\n      <th>3</th>\n      <td>FIN1000004</td>\n      <td>814112</td>\n      <td>814112</td>\n      <td>M</td>\n      <td>S</td>\n      <td>Salaried</td>\n      <td>Class XII</td>\n      <td>Level 1</td>\n      <td>Level 3</td>\n      <td>4.0</td>\n      <td>Confirmation</td>\n      <td>F</td>\n      <td>0.0</td>\n      <td>0.0</td>\n      <td>318356.0</td>\n      <td>22.0</td>\n      <td>318356.0</td>\n      <td>22.0</td>\n      <td>0</td>\n    </tr>\n    <tr>\n      <th>4</th>\n      <td>FIN1000005</td>\n      <td>814112</td>\n      <td>815351</td>\n      <td>M</td>\n      <td>M</td>\n      <td>Others</td>\n      <td>Class XII</td>\n      <td>Level 1</td>\n      <td>Level 1</td>\n      <td>2.0</td>\n      <td>Confirmation</td>\n      <td>M</td>\n      <td>2.0</td>\n      <td>1.0</td>\n      <td>230402.0</td>\n      <td>17.0</td>\n      <td>230402.0</td>\n      <td>17.0</td>\n      <td>0</td>\n    </tr>\n  </tbody>\n</table>\n</div>"
     },
     "metadata": {},
     "execution_count": 4
    }
   ],
   "source": [
    "df.head()"
   ]
  },
  {
   "cell_type": "code",
   "execution_count": 5,
   "metadata": {},
   "outputs": [
    {
     "output_type": "execute_result",
     "data": {
      "text/plain": "          Office_PIN  Applicant_City_PIN  Manager_Grade  \\\ncount    8844.000000         8844.000000    8844.000000   \nmean   450714.378562       452638.591022       3.264134   \nstd    234079.460837       238045.727919       1.137449   \nmin    110005.000000       110001.000000       1.000000   \n25%    226001.000000       226002.000000       2.000000   \n50%    416001.000000       422001.000000       3.000000   \n75%    695014.000000       695009.000000       4.000000   \nmax    851101.000000       995657.000000      10.000000   \n\n       Manager_Num_Application  Manager_Num_Coded  Manager_Business  \\\ncount              8844.000000        8844.000000      8.844000e+03   \nmean                  1.939733           0.758933      1.843710e+05   \nstd                   2.150529           1.188644      2.747163e+05   \nmin                   0.000000           0.000000     -2.652890e+05   \n25%                   0.000000           0.000000      0.000000e+00   \n50%                   1.000000           0.000000      1.021780e+05   \n75%                   3.000000           1.000000      2.471165e+05   \nmax                  22.000000           9.000000      3.578265e+06   \n\n       Manager_Num_Products  Manager_Business2  Manager_Num_Products2  \\\ncount           8844.000000       8.844000e+03            8844.000000   \nmean               7.152307       1.829263e+05               7.131275   \nstd                8.439351       2.718021e+05               8.423597   \nmin                0.000000      -2.652890e+05               0.000000   \n25%                0.000000       0.000000e+00               0.000000   \n50%                5.000000       1.017140e+05               5.000000   \n75%               11.000000       2.464612e+05              11.000000   \nmax              101.000000       3.578265e+06             101.000000   \n\n       Business_Sourced  \ncount       8844.000000  \nmean           0.342718  \nstd            0.474645  \nmin            0.000000  \n25%            0.000000  \n50%            0.000000  \n75%            1.000000  \nmax            1.000000  ",
      "text/html": "<div>\n<style scoped>\n    .dataframe tbody tr th:only-of-type {\n        vertical-align: middle;\n    }\n\n    .dataframe tbody tr th {\n        vertical-align: top;\n    }\n\n    .dataframe thead th {\n        text-align: right;\n    }\n</style>\n<table border=\"1\" class=\"dataframe\">\n  <thead>\n    <tr style=\"text-align: right;\">\n      <th></th>\n      <th>Office_PIN</th>\n      <th>Applicant_City_PIN</th>\n      <th>Manager_Grade</th>\n      <th>Manager_Num_Application</th>\n      <th>Manager_Num_Coded</th>\n      <th>Manager_Business</th>\n      <th>Manager_Num_Products</th>\n      <th>Manager_Business2</th>\n      <th>Manager_Num_Products2</th>\n      <th>Business_Sourced</th>\n    </tr>\n  </thead>\n  <tbody>\n    <tr>\n      <th>count</th>\n      <td>8844.000000</td>\n      <td>8844.000000</td>\n      <td>8844.000000</td>\n      <td>8844.000000</td>\n      <td>8844.000000</td>\n      <td>8.844000e+03</td>\n      <td>8844.000000</td>\n      <td>8.844000e+03</td>\n      <td>8844.000000</td>\n      <td>8844.000000</td>\n    </tr>\n    <tr>\n      <th>mean</th>\n      <td>450714.378562</td>\n      <td>452638.591022</td>\n      <td>3.264134</td>\n      <td>1.939733</td>\n      <td>0.758933</td>\n      <td>1.843710e+05</td>\n      <td>7.152307</td>\n      <td>1.829263e+05</td>\n      <td>7.131275</td>\n      <td>0.342718</td>\n    </tr>\n    <tr>\n      <th>std</th>\n      <td>234079.460837</td>\n      <td>238045.727919</td>\n      <td>1.137449</td>\n      <td>2.150529</td>\n      <td>1.188644</td>\n      <td>2.747163e+05</td>\n      <td>8.439351</td>\n      <td>2.718021e+05</td>\n      <td>8.423597</td>\n      <td>0.474645</td>\n    </tr>\n    <tr>\n      <th>min</th>\n      <td>110005.000000</td>\n      <td>110001.000000</td>\n      <td>1.000000</td>\n      <td>0.000000</td>\n      <td>0.000000</td>\n      <td>-2.652890e+05</td>\n      <td>0.000000</td>\n      <td>-2.652890e+05</td>\n      <td>0.000000</td>\n      <td>0.000000</td>\n    </tr>\n    <tr>\n      <th>25%</th>\n      <td>226001.000000</td>\n      <td>226002.000000</td>\n      <td>2.000000</td>\n      <td>0.000000</td>\n      <td>0.000000</td>\n      <td>0.000000e+00</td>\n      <td>0.000000</td>\n      <td>0.000000e+00</td>\n      <td>0.000000</td>\n      <td>0.000000</td>\n    </tr>\n    <tr>\n      <th>50%</th>\n      <td>416001.000000</td>\n      <td>422001.000000</td>\n      <td>3.000000</td>\n      <td>1.000000</td>\n      <td>0.000000</td>\n      <td>1.021780e+05</td>\n      <td>5.000000</td>\n      <td>1.017140e+05</td>\n      <td>5.000000</td>\n      <td>0.000000</td>\n    </tr>\n    <tr>\n      <th>75%</th>\n      <td>695014.000000</td>\n      <td>695009.000000</td>\n      <td>4.000000</td>\n      <td>3.000000</td>\n      <td>1.000000</td>\n      <td>2.471165e+05</td>\n      <td>11.000000</td>\n      <td>2.464612e+05</td>\n      <td>11.000000</td>\n      <td>1.000000</td>\n    </tr>\n    <tr>\n      <th>max</th>\n      <td>851101.000000</td>\n      <td>995657.000000</td>\n      <td>10.000000</td>\n      <td>22.000000</td>\n      <td>9.000000</td>\n      <td>3.578265e+06</td>\n      <td>101.000000</td>\n      <td>3.578265e+06</td>\n      <td>101.000000</td>\n      <td>1.000000</td>\n    </tr>\n  </tbody>\n</table>\n</div>"
     },
     "metadata": {},
     "execution_count": 5
    }
   ],
   "source": [
    "df.describe()"
   ]
  },
  {
   "cell_type": "code",
   "execution_count": 22,
   "metadata": {},
   "outputs": [
    {
     "output_type": "execute_result",
     "data": {
      "text/plain": "ID                             0\nOffice_PIN                     0\nApplicant_City_PIN             0\nApplicant_Gender               0\nApplicant_Marital_Status       0\nApplicant_Occupation           0\nApplicant_Qualification        0\nManager_Joining_Designation    0\nManager_Current_Designation    0\nManager_Grade                  0\nManager_Status                 0\nManager_Gender                 0\nManager_Num_Application        0\nManager_Num_Coded              0\nManager_Business               0\nManager_Num_Products           0\nManager_Business2              0\nManager_Num_Products2          0\nBusiness_Sourced               0\ndtype: int64"
     },
     "metadata": {},
     "execution_count": 22
    }
   ],
   "source": [
    "df.isnull().sum()"
   ]
  },
  {
   "cell_type": "code",
   "execution_count": 8,
   "metadata": {},
   "outputs": [
    {
     "output_type": "execute_result",
     "data": {
      "text/plain": "M    6656\nF    2135\nName: Applicant_Gender, dtype: int64"
     },
     "metadata": {},
     "execution_count": 8
    }
   ],
   "source": [
    "df['Applicant_Gender'].value_counts()"
   ]
  },
  {
   "cell_type": "code",
   "execution_count": 10,
   "metadata": {},
   "outputs": [
    {
     "output_type": "execute_result",
     "data": {
      "text/plain": "M    6709\nF    2135\nName: Applicant_Gender, dtype: int64"
     },
     "metadata": {},
     "execution_count": 10
    }
   ],
   "source": [
    "df['Applicant_Gender'].fillna(\"M\",inplace = True)\n",
    "df['Applicant_Gender'].value_counts()"
   ]
  },
  {
   "cell_type": "code",
   "execution_count": 14,
   "metadata": {},
   "outputs": [
    {
     "output_type": "execute_result",
     "data": {
      "text/plain": "M    5792\nS    3042\nW       6\nD       4\nName: Applicant_Marital_Status, dtype: int64"
     },
     "metadata": {},
     "execution_count": 14
    }
   ],
   "source": [
    "df['Applicant_Marital_Status'].value_counts()"
   ]
  },
  {
   "cell_type": "code",
   "execution_count": 13,
   "metadata": {},
   "outputs": [],
   "source": [
    "df['Applicant_Marital_Status'].fillna(\"M\",inplace = True)"
   ]
  },
  {
   "cell_type": "code",
   "execution_count": 16,
   "metadata": {},
   "outputs": [
    {
     "output_type": "execute_result",
     "data": {
      "text/plain": "Salaried         3546\nBusiness         2157\nOthers           1809\nSelf Employed     146\nStudent            96\nName: Applicant_Occupation, dtype: int64"
     },
     "metadata": {},
     "execution_count": 16
    }
   ],
   "source": [
    "df['Applicant_Occupation'].value_counts()"
   ]
  },
  {
   "cell_type": "code",
   "execution_count": 17,
   "metadata": {},
   "outputs": [],
   "source": [
    "df['Applicant_Occupation'].fillna(\"Salaried\",inplace = True)"
   ]
  },
  {
   "cell_type": "code",
   "execution_count": 21,
   "metadata": {},
   "outputs": [
    {
     "output_type": "execute_result",
     "data": {
      "text/plain": "Class XII                                                           5497\nGraduate                                                            2958\nClass X                                                              195\nOthers                                                               116\nMasters of Business Administration                                    71\nAssociate / Fellow of Institute of Chartered Accountans of India       3\nProfessional Qualification in Marketing                                1\nAssociate/Fellow of Acturial Society of India                          1\nAssociate/Fellow of Institute of Company Secretories of India          1\nAssociate/Fellow of Insurance Institute of India                       1\nName: Applicant_Qualification, dtype: int64"
     },
     "metadata": {},
     "execution_count": 21
    }
   ],
   "source": [
    "df[\"Applicant_Qualification\"].value_counts()"
   ]
  },
  {
   "cell_type": "code",
   "execution_count": 20,
   "metadata": {},
   "outputs": [],
   "source": [
    "df[\"Applicant_Qualification\"].fillna(\"Class XII\",inplace = True)"
   ]
  },
  {
   "cell_type": "code",
   "execution_count": 23,
   "metadata": {},
   "outputs": [
    {
     "output_type": "execute_result",
     "data": {
      "text/plain": "ID                              object\nOffice_PIN                       int64\nApplicant_City_PIN               int64\nApplicant_Gender                object\nApplicant_Marital_Status        object\nApplicant_Occupation            object\nApplicant_Qualification         object\nManager_Joining_Designation     object\nManager_Current_Designation     object\nManager_Grade                  float64\nManager_Status                  object\nManager_Gender                  object\nManager_Num_Application        float64\nManager_Num_Coded              float64\nManager_Business               float64\nManager_Num_Products           float64\nManager_Business2              float64\nManager_Num_Products2          float64\nBusiness_Sourced                 int64\ndtype: object"
     },
     "metadata": {},
     "execution_count": 23
    }
   ],
   "source": [
    "df.dtypes"
   ]
  },
  {
   "cell_type": "code",
   "execution_count": 24,
   "metadata": {},
   "outputs": [],
   "source": [
    "from sklearn.model_selection import train_test_split\n",
    "from sklearn.linear_model import LogisticRegression"
   ]
  },
  {
   "cell_type": "code",
   "execution_count": 27,
   "metadata": {},
   "outputs": [],
   "source": [
    "df = pd.get_dummies(df)\n",
    "X = df.drop(\"Business_Sourced\",axis = 1)\n",
    "Y = df[\"Business_Sourced\"]"
   ]
  },
  {
   "cell_type": "code",
   "execution_count": 28,
   "metadata": {},
   "outputs": [
    {
     "output_type": "execute_result",
     "data": {
      "text/plain": "   Office_PIN  Applicant_City_PIN  Manager_Grade  Manager_Num_Application  \\\n0      842001              844120            3.0                      2.0   \n1      842001              844111            3.0                      2.0   \n2      800001              844101            2.0                      0.0   \n3      814112              814112            4.0                      0.0   \n4      814112              815351            2.0                      2.0   \n\n   Manager_Num_Coded  Manager_Business  Manager_Num_Products  \\\n0                1.0          335249.0                  28.0   \n1                1.0          335249.0                  28.0   \n2                0.0          357184.0                  24.0   \n3                0.0          318356.0                  22.0   \n4                1.0          230402.0                  17.0   \n\n   Manager_Business2  Manager_Num_Products2  ID_FIN1000001  ...  \\\n0           335249.0                   28.0              1  ...   \n1           335249.0                   28.0              0  ...   \n2           357184.0                   24.0              0  ...   \n3           318356.0                   22.0              0  ...   \n4           230402.0                   17.0              0  ...   \n\n   Manager_Joining_Designation_Other  Manager_Current_Designation_Level 1  \\\n0                                  0                                    0   \n1                                  0                                    0   \n2                                  0                                    1   \n3                                  0                                    0   \n4                                  0                                    1   \n\n   Manager_Current_Designation_Level 2  Manager_Current_Designation_Level 3  \\\n0                                    1                                    0   \n1                                    1                                    0   \n2                                    0                                    0   \n3                                    0                                    1   \n4                                    0                                    0   \n\n   Manager_Current_Designation_Level 4  Manager_Current_Designation_Level 5  \\\n0                                    0                                    0   \n1                                    0                                    0   \n2                                    0                                    0   \n3                                    0                                    0   \n4                                    0                                    0   \n\n   Manager_Status_Confirmation  Manager_Status_Probation  Manager_Gender_F  \\\n0                            1                         0                 0   \n1                            1                         0                 0   \n2                            1                         0                 0   \n3                            1                         0                 1   \n4                            1                         0                 0   \n\n   Manager_Gender_M  \n0                 1  \n1                 1  \n2                 1  \n3                 0  \n4                 1  \n\n[5 rows x 8891 columns]",
      "text/html": "<div>\n<style scoped>\n    .dataframe tbody tr th:only-of-type {\n        vertical-align: middle;\n    }\n\n    .dataframe tbody tr th {\n        vertical-align: top;\n    }\n\n    .dataframe thead th {\n        text-align: right;\n    }\n</style>\n<table border=\"1\" class=\"dataframe\">\n  <thead>\n    <tr style=\"text-align: right;\">\n      <th></th>\n      <th>Office_PIN</th>\n      <th>Applicant_City_PIN</th>\n      <th>Manager_Grade</th>\n      <th>Manager_Num_Application</th>\n      <th>Manager_Num_Coded</th>\n      <th>Manager_Business</th>\n      <th>Manager_Num_Products</th>\n      <th>Manager_Business2</th>\n      <th>Manager_Num_Products2</th>\n      <th>ID_FIN1000001</th>\n      <th>...</th>\n      <th>Manager_Joining_Designation_Other</th>\n      <th>Manager_Current_Designation_Level 1</th>\n      <th>Manager_Current_Designation_Level 2</th>\n      <th>Manager_Current_Designation_Level 3</th>\n      <th>Manager_Current_Designation_Level 4</th>\n      <th>Manager_Current_Designation_Level 5</th>\n      <th>Manager_Status_Confirmation</th>\n      <th>Manager_Status_Probation</th>\n      <th>Manager_Gender_F</th>\n      <th>Manager_Gender_M</th>\n    </tr>\n  </thead>\n  <tbody>\n    <tr>\n      <th>0</th>\n      <td>842001</td>\n      <td>844120</td>\n      <td>3.0</td>\n      <td>2.0</td>\n      <td>1.0</td>\n      <td>335249.0</td>\n      <td>28.0</td>\n      <td>335249.0</td>\n      <td>28.0</td>\n      <td>1</td>\n      <td>...</td>\n      <td>0</td>\n      <td>0</td>\n      <td>1</td>\n      <td>0</td>\n      <td>0</td>\n      <td>0</td>\n      <td>1</td>\n      <td>0</td>\n      <td>0</td>\n      <td>1</td>\n    </tr>\n    <tr>\n      <th>1</th>\n      <td>842001</td>\n      <td>844111</td>\n      <td>3.0</td>\n      <td>2.0</td>\n      <td>1.0</td>\n      <td>335249.0</td>\n      <td>28.0</td>\n      <td>335249.0</td>\n      <td>28.0</td>\n      <td>0</td>\n      <td>...</td>\n      <td>0</td>\n      <td>0</td>\n      <td>1</td>\n      <td>0</td>\n      <td>0</td>\n      <td>0</td>\n      <td>1</td>\n      <td>0</td>\n      <td>0</td>\n      <td>1</td>\n    </tr>\n    <tr>\n      <th>2</th>\n      <td>800001</td>\n      <td>844101</td>\n      <td>2.0</td>\n      <td>0.0</td>\n      <td>0.0</td>\n      <td>357184.0</td>\n      <td>24.0</td>\n      <td>357184.0</td>\n      <td>24.0</td>\n      <td>0</td>\n      <td>...</td>\n      <td>0</td>\n      <td>1</td>\n      <td>0</td>\n      <td>0</td>\n      <td>0</td>\n      <td>0</td>\n      <td>1</td>\n      <td>0</td>\n      <td>0</td>\n      <td>1</td>\n    </tr>\n    <tr>\n      <th>3</th>\n      <td>814112</td>\n      <td>814112</td>\n      <td>4.0</td>\n      <td>0.0</td>\n      <td>0.0</td>\n      <td>318356.0</td>\n      <td>22.0</td>\n      <td>318356.0</td>\n      <td>22.0</td>\n      <td>0</td>\n      <td>...</td>\n      <td>0</td>\n      <td>0</td>\n      <td>0</td>\n      <td>1</td>\n      <td>0</td>\n      <td>0</td>\n      <td>1</td>\n      <td>0</td>\n      <td>1</td>\n      <td>0</td>\n    </tr>\n    <tr>\n      <th>4</th>\n      <td>814112</td>\n      <td>815351</td>\n      <td>2.0</td>\n      <td>2.0</td>\n      <td>1.0</td>\n      <td>230402.0</td>\n      <td>17.0</td>\n      <td>230402.0</td>\n      <td>17.0</td>\n      <td>0</td>\n      <td>...</td>\n      <td>0</td>\n      <td>1</td>\n      <td>0</td>\n      <td>0</td>\n      <td>0</td>\n      <td>0</td>\n      <td>1</td>\n      <td>0</td>\n      <td>0</td>\n      <td>1</td>\n    </tr>\n  </tbody>\n</table>\n<p>5 rows × 8891 columns</p>\n</div>"
     },
     "metadata": {},
     "execution_count": 28
    }
   ],
   "source": [
    "X.head()"
   ]
  },
  {
   "cell_type": "code",
   "execution_count": 29,
   "metadata": {},
   "outputs": [],
   "source": [
    "X_train,X_test,Y_train,Y_test = train_test_split(X,Y,random_state = 1,test_size = 0.3)"
   ]
  },
  {
   "cell_type": "code",
   "execution_count": 30,
   "metadata": {},
   "outputs": [],
   "source": [
    "from sklearn.metrics import f1_score,auc\n",
    "from sklearn.metrics import roc_auc_score"
   ]
  },
  {
   "cell_type": "code",
   "execution_count": 31,
   "metadata": {},
   "outputs": [],
   "source": [
    "logreg = LogisticRegression()"
   ]
  },
  {
   "cell_type": "code",
   "execution_count": 33,
   "metadata": {},
   "outputs": [
    {
     "output_type": "execute_result",
     "data": {
      "text/plain": "LogisticRegression(C=1.0, class_weight=None, dual=False, fit_intercept=True,\n                   intercept_scaling=1, l1_ratio=None, max_iter=100,\n                   multi_class='auto', n_jobs=None, penalty='l2',\n                   random_state=None, solver='lbfgs', tol=0.0001, verbose=0,\n                   warm_start=False)"
     },
     "metadata": {},
     "execution_count": 33
    }
   ],
   "source": [
    "logreg.fit(X_train,Y_train)"
   ]
  },
  {
   "cell_type": "code",
   "execution_count": 34,
   "metadata": {},
   "outputs": [],
   "source": [
    "pred_train = logreg.predict(X_train)\n",
    "pred_test = logreg.predict(X_test)"
   ]
  },
  {
   "cell_type": "code",
   "execution_count": 39,
   "metadata": {},
   "outputs": [],
   "source": [
    "train_score =roc_auc_score(Y_train,pred_train)\n",
    "test_score = roc_auc_score(Y_test,pred_test)"
   ]
  },
  {
   "cell_type": "code",
   "execution_count": 40,
   "metadata": {},
   "outputs": [
    {
     "output_type": "stream",
     "name": "stdout",
     "text": "Train SCORE IS : 0.4999751658258662\nTEST SCORE IS : 0.5\n"
    }
   ],
   "source": [
    "print(\"Train SCORE IS :\",train_score)\n",
    "print(\"TEST SCORE IS :\",test_score)"
   ]
  },
  {
   "cell_type": "code",
   "execution_count": null,
   "metadata": {},
   "outputs": [],
   "source": []
  }
 ]
}